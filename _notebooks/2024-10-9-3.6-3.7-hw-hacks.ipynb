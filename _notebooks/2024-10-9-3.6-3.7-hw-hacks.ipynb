{
 "cells": [
  {
   "cell_type": "markdown",
   "metadata": {},
   "source": [
    "---\n",
    "title: 3.6 and 3.7 HW Hacks\n",
    "hide: True\n",
    "type: ccc\n",
    "permalink: /classteach/3.6_3.7\n",
    "---"
   ]
  },
  {
   "cell_type": "markdown",
   "metadata": {},
   "source": [
    "# 3.6 hw hack"
   ]
  },
  {
   "cell_type": "code",
   "execution_count": 2,
   "metadata": {},
   "outputs": [
    {
     "name": "stdout",
     "output_type": "stream",
     "text": [
      "5 is less than 6\n"
     ]
    }
   ],
   "source": [
    "num1 = input(\"enter first number: /n\")\n",
    "num2 = input(\"enter second number: /n\")\n",
    "\n",
    "if (num1 > num2):\n",
    "    print(num1 + \" is more than \" + num2)\n",
    "elif (num1 == num2):\n",
    "    print(num1 + \" is equal to \" + num2)\n",
    "else:\n",
    "    print(num1 + \" is less than \" + num2)"
   ]
  },
  {
   "cell_type": "markdown",
   "metadata": {},
   "source": [
    "# 3.7 hw hack 1"
   ]
  },
  {
   "cell_type": "code",
   "execution_count": null,
   "metadata": {},
   "outputs": [],
   "source": [
    "INPUT exam_score\n",
    "INPUT attendance_percentage\n",
    "\n",
    "    IF exam_score >= 75 THEN\n",
    "        IF attendance_percentage >= 80 THEN\n",
    "            PRINT \"Student passes the class.\"\n",
    "        ELSE\n",
    "            PRINT \"Student fails due to insufficient attendance.\"\n",
    "    ELSE\n",
    "        PRINT \"Student fails due to insufficient exam score.\""
   ]
  },
  {
   "cell_type": "markdown",
   "metadata": {},
   "source": [
    "# 3.7 hw hack 2"
   ]
  },
  {
   "cell_type": "code",
   "execution_count": 10,
   "metadata": {},
   "outputs": [
    {
     "name": "stdout",
     "output_type": "stream",
     "text": [
      "The shipping cost is: $15.00\n"
     ]
    }
   ],
   "source": [
    "def shipping_cost(weight, delivery_speed):\n",
    "    standard_cost = 5.00\n",
    "    express_cost = 10.00\n",
    "\n",
    "    if weight <= 1:\n",
    "        cost = standard_cost + 2.00\n",
    "    elif weight <= 5:\n",
    "        cost = standard_cost + 5.00\n",
    "    else:\n",
    "        cost = standard_cost + 10.00\n",
    "\n",
    "    if delivery_speed.lower() == \"express\":\n",
    "        cost += 5.00\n",
    "\n",
    "    return cost\n",
    "\n",
    "package_weight = float(input(\"Enter the weight of the package (in lbs): \"))\n",
    "delivery_speed = input(\"Choose delivery speed (standard or express): \")\n",
    "\n",
    "shipping_cost = shipping_cost(package_weight, delivery_speed)\n",
    "print(f\"The shipping cost is: ${shipping_cost:.2f}\")\n"
   ]
  },
  {
   "cell_type": "markdown",
   "metadata": {},
   "source": [
    "# 3.7 Hw hack 3"
   ]
  },
  {
   "cell_type": "code",
   "execution_count": 11,
   "metadata": {},
   "outputs": [
    {
     "name": "stdout",
     "output_type": "stream",
     "text": [
      "The ticket price is: $16.00\n"
     ]
    }
   ],
   "source": [
    "age = int(input(\"Enter your age: \"))\n",
    "student_status = input(\"Are you a student? (yes or no): \")\n",
    "\n",
    "def calculate_ticket_price(age, is_student):\n",
    "    if age < 12:\n",
    "        price = 10.00\n",
    "    elif age < 65:\n",
    "        price = 20.00\n",
    "    else:\n",
    "        price = 15.00\n",
    "\n",
    "    if is_student:\n",
    "        price *= 0.75\n",
    "    return price\n",
    "\n",
    "is_student = student_status == \"yes\"\n",
    "\n",
    "ticket_price = calculate_ticket_price(age, is_student)\n",
    "print(f\"The ticket price is: ${ticket_price:.2f}\")"
   ]
  },
  {
   "cell_type": "markdown",
   "metadata": {},
   "source": [
    "# 3.7 challenge hack"
   ]
  },
  {
   "cell_type": "code",
   "execution_count": 13,
   "metadata": {},
   "outputs": [
    {
     "name": "stdout",
     "output_type": "stream",
     "text": [
      "Scalene Triangle\n"
     ]
    }
   ],
   "source": [
    "side1 = float(input(\"Enter the length of the first side (positive number): \"))\n",
    "side2 = float(input(\"Enter the length of the second side (positive number): \"))\n",
    "side3 = float(input(\"Enter the length of the third side (positive number): \"))\n",
    "\n",
    "def classify_triangle(side1, side2, side3):\n",
    "    if side1 + side2 > side3 and side1 + side3 > side2 and side2 + side3 > side1:\n",
    "        if side1 == side2 == side3:\n",
    "            return \"Equilateral Triangle\"\n",
    "        elif side1 == side2 or side1 == side3 or side2 == side3:\n",
    "            return \"Isosceles Triangle\"\n",
    "        else:\n",
    "            return \"Scalene Triangle\"\n",
    "    else:\n",
    "        return \"The sides do not form a valid triangle.\"\n",
    "    \n",
    "triangle_type = classify_triangle(side1, side2, side3)\n",
    "print(triangle_type)"
   ]
  }
 ],
 "metadata": {
  "kernelspec": {
   "display_name": "Python 3",
   "language": "python",
   "name": "python3"
  },
  "language_info": {
   "codemirror_mode": {
    "name": "ipython",
    "version": 3
   },
   "file_extension": ".py",
   "mimetype": "text/x-python",
   "name": "python",
   "nbconvert_exporter": "python",
   "pygments_lexer": "ipython3",
   "version": "3.10.12"
  },
  "orig_nbformat": 4
 },
 "nbformat": 4,
 "nbformat_minor": 2
}
