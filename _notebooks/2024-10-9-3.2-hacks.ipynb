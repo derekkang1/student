{
 "cells": [
  {
   "cell_type": "markdown",
   "metadata": {},
   "source": [
    "---\n",
    "title: 3.2 popcorn and hw hacks\n",
    "hide: True\n",
    "description: A Tech Talk on how to use javascript\n",
    "type: ccc\n",
    "permalink: /classteach/3.2\n",
    "---"
   ]
  },
  {
   "cell_type": "markdown",
   "metadata": {},
   "source": [
    "# Popcorn Hack 1"
   ]
  },
  {
   "cell_type": "code",
   "execution_count": 1,
   "metadata": {},
   "outputs": [
    {
     "name": "stdout",
     "output_type": "stream",
     "text": [
      "['brawl stars', 'Minecraft', 'Among Us', 'Fortnite', 'Fifa Mobile']\n"
     ]
    }
   ],
   "source": [
    "list = [\"brawl stars\", \"Minecraft\", \"Among Us\",\"Fortnite\", \"Fifa Mobile\"]\n",
    "print(list)"
   ]
  },
  {
   "cell_type": "markdown",
   "metadata": {},
   "source": [
    "# Popcorn Hack 2"
   ]
  },
  {
   "cell_type": "code",
   "execution_count": 9,
   "metadata": {},
   "outputs": [
    {
     "name": "stdout",
     "output_type": "stream",
     "text": [
      "Unit 1: Global Tapestry (c. 1200 - c. 1450)\n",
      "Unit 2: Networks of Exchange (c. 1200 - c. 1450)\n",
      "Unit 3: Land-Based Empires (c. 1450 - c. 1750)\n",
      "Unit 4: Transoceanic Interconnections (c. 1450 - c. 1750)\n",
      "Unit 5: Revolutions (c. 1750 - c. 1900)\n",
      "Unit 6: Consequences of Industrialization (c. 1750 - c. 1900)\n",
      "Unit 7: Global Conflict (c. 1900 - c. 1945)\n",
      "Unit 8: Cold War and Decolonization (c. 1945 - c. 1980)\n",
      "Unit 9: Globalization (c. 1980 - present)\n"
     ]
    },
    {
     "data": {
      "text/plain": [
       "str"
      ]
     },
     "execution_count": 9,
     "metadata": {},
     "output_type": "execute_result"
    }
   ],
   "source": [
    "ap_world_units = {\n",
    "    \"part1\": [\n",
    "        \"Unit 1: Global Tapestry (c. 1200 - c. 1450)\",\n",
    "        \"Unit 2: Networks of Exchange (c. 1200 - c. 1450)\"\n",
    "    ],\n",
    "    \"part2\": [\n",
    "        \"Unit 3: Land-Based Empires (c. 1450 - c. 1750)\",\n",
    "        \"Unit 4: Transoceanic Interconnections (c. 1450 - c. 1750)\"\n",
    "    ],\n",
    "    \"part3\": [\n",
    "        \"Unit 5: Revolutions (c. 1750 - c. 1900)\",\n",
    "        \"Unit 6: Consequences of Industrialization (c. 1750 - c. 1900)\"\n",
    "    ],\n",
    "    \"part4\": [\n",
    "        \"Unit 7: Global Conflict (c. 1900 - c. 1945)\",\n",
    "        \"Unit 8: Cold War and Decolonization (c. 1945 - c. 1980)\",\n",
    "        \"Unit 9: Globalization (c. 1980 - present)\"\n",
    "    ]\n",
    "}\n",
    "\n",
    "for part, units in ap_world_units.items():\n",
    "    for unit in units:\n",
    "        print(unit)"
   ]
  },
  {
   "cell_type": "markdown",
   "metadata": {},
   "source": [
    "# HW Hack"
   ]
  },
  {
   "cell_type": "code",
   "execution_count": 3,
   "metadata": {},
   "outputs": [
    {
     "name": "stdout",
     "output_type": "stream",
     "text": [
      "Action:\n",
      " - DOOM Eternal\n",
      " - Sekiro: Shadows Die Twice\n",
      " - Devil May Cry 5\n",
      "Adventure:\n",
      " - The Legend of Zelda: Breath of the Wild\n",
      " - Firewatch\n",
      " - Life is Strange\n",
      "Role-Playing Games (RPG):\n",
      " - The Witcher 3: Wild Hunt\n",
      " - Persona 5\n",
      " - Final Fantasy VII Remake\n",
      "First-Person Shooter (FPS):\n",
      " - Call of Duty: Warzone\n",
      " - Counter-Strike: Global Offensive\n",
      " - Overwatch\n",
      "Strategy:\n",
      " - Civilization VI\n",
      " - XCOM 2\n",
      " - StarCraft II\n",
      "Simulation:\n",
      " - The Sims 4\n",
      " - Stardew Valley\n",
      " - Cities: Skylines\n",
      "Sports:\n",
      " - FIFA 23\n",
      " - NBA 2K23\n",
      " - Tony Hawk’s Pro Skater 1+2\n",
      "Fighting:\n",
      " - Tekken 7\n",
      " - Mortal Kombat 11\n",
      " - Super Smash Bros. Ultimate\n",
      "Horror:\n",
      " - Resident Evil Village\n",
      " - Silent Hill 2\n",
      " - Amnesia: The Dark Descent\n",
      "Puzzle:\n",
      " - Portal 2\n",
      " - Tetris Effect\n",
      " - The Witness\n",
      "Platformer:\n",
      " - Celeste\n",
      " - Hollow Knight\n",
      " - Super Mario Odyssey\n",
      "Open World:\n",
      " - Grand Theft Auto V\n",
      " - Red Dead Redemption 2\n",
      " - Minecraft\n",
      "Battle Royale:\n",
      " - Fortnite\n",
      " - Apex Legends\n",
      " - PUBG: Battlegrounds\n",
      "MMORPG:\n",
      " - World of Warcraft\n",
      " - Final Fantasy XIV\n",
      " - Guild Wars 2\n"
     ]
    }
   ],
   "source": [
    "game_genres = {\n",
    "    \"Action\": [\n",
    "        \"DOOM Eternal\",\n",
    "        \"Sekiro: Shadows Die Twice\",\n",
    "        \"Devil May Cry 5\"\n",
    "    ],\n",
    "    \"Adventure\": [\n",
    "        \"The Legend of Zelda: Breath of the Wild\",\n",
    "        \"Firewatch\",\n",
    "        \"Life is Strange\"\n",
    "    ],\n",
    "    \"Role-Playing Games (RPG)\": [\n",
    "        \"The Witcher 3: Wild Hunt\",\n",
    "        \"Persona 5\",\n",
    "        \"Final Fantasy VII Remake\"\n",
    "    ],\n",
    "    \"First-Person Shooter (FPS)\": [\n",
    "        \"Call of Duty: Warzone\",\n",
    "        \"Counter-Strike: Global Offensive\",\n",
    "        \"Overwatch\"\n",
    "    ],\n",
    "    \"Strategy\": [\n",
    "        \"Civilization VI\",\n",
    "        \"XCOM 2\",\n",
    "        \"StarCraft II\"\n",
    "    ],\n",
    "    \"Simulation\": [\n",
    "        \"The Sims 4\",\n",
    "        \"Stardew Valley\",\n",
    "        \"Cities: Skylines\"\n",
    "    ],\n",
    "    \"Sports\": [\n",
    "        \"FIFA 23\",\n",
    "        \"NBA 2K23\",\n",
    "        \"Tony Hawk’s Pro Skater 1+2\"\n",
    "    ],\n",
    "    \"Fighting\": [\n",
    "        \"Tekken 7\",\n",
    "        \"Mortal Kombat 11\",\n",
    "        \"Super Smash Bros. Ultimate\"\n",
    "    ],\n",
    "    \"Horror\": [\n",
    "        \"Resident Evil Village\",\n",
    "        \"Silent Hill 2\",\n",
    "        \"Amnesia: The Dark Descent\"\n",
    "    ],\n",
    "    \"Puzzle\": [\n",
    "        \"Portal 2\",\n",
    "        \"Tetris Effect\",\n",
    "        \"The Witness\"\n",
    "    ],\n",
    "    \"Platformer\": [\n",
    "        \"Celeste\",\n",
    "        \"Hollow Knight\",\n",
    "        \"Super Mario Odyssey\"\n",
    "    ],\n",
    "    \"Open World\": [\n",
    "        \"Grand Theft Auto V\",\n",
    "        \"Red Dead Redemption 2\",\n",
    "        \"Minecraft\"\n",
    "    ],\n",
    "    \"Battle Royale\": [\n",
    "        \"Fortnite\",\n",
    "        \"Apex Legends\",\n",
    "        \"PUBG: Battlegrounds\"\n",
    "    ],\n",
    "    \"MMORPG\": [\n",
    "        \"World of Warcraft\",\n",
    "        \"Final Fantasy XIV\",\n",
    "        \"Guild Wars 2\"\n",
    "    ]\n",
    "}\n",
    "\n",
    "for genre, games in game_genres.items():\n",
    "    print(f\"{genre}:\")\n",
    "    for game in games:\n",
    "        print(f\" - {game}\")\n"
   ]
  }
 ],
 "metadata": {
  "kernelspec": {
   "display_name": "Python 3",
   "language": "python",
   "name": "python3"
  },
  "language_info": {
   "codemirror_mode": {
    "name": "ipython",
    "version": 3
   },
   "file_extension": ".py",
   "mimetype": "text/x-python",
   "name": "python",
   "nbconvert_exporter": "python",
   "pygments_lexer": "ipython3",
   "version": "3.10.12"
  },
  "orig_nbformat": 4
 },
 "nbformat": 4,
 "nbformat_minor": 2
}
